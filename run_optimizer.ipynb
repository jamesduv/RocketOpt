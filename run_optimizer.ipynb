{
 "cells": [
  {
   "attachments": {},
   "cell_type": "markdown",
   "metadata": {},
   "source": []
  },
  {
   "attachments": {},
   "cell_type": "markdown",
   "metadata": {},
   "source": [
    "# Optimization of a Simplified Methane-Oxygen Rocket Engine Thrust Chamber\n",
    "This notebook follows along with the report written for a class project: LINK\n",
    "\n",
    "A simplified model of a regeneratively cooled rocket thrust chamber is optimized using constrained, gradient based optimization.\n",
    "\n",
    "$\\renewcommand{\\mr}{\\mathrm}$\n",
    "$\\renewcommand{\\mb}{\\mathbf}$\n",
    "\n"
   ]
  },
  {
   "attachments": {},
   "cell_type": "markdown",
   "metadata": {},
   "source": [
    "## Problem Statement and Design Variables\n",
    "The problem at hand is to minimize the structural mass $m_{s}$ of a regeneratively cooled thrust chamber subject to thrust ($F$), efficiency ($I_{sp}$), mechanical stress ($\\sigma$), and operating temperature $(T)$ inequality constraints given a cryogenic propellant combination.\n",
    "\n",
    "Collect all design variables in vector $\\pmb{\\mu}$, then this may be written mathematically as follows:\n",
    "\\begin{equation}\n",
    "\t\\begin{split}\n",
    "\t\t\\mr{minimize} \\quad & m_{s}(\\pmb{\\mu}) \\\\\n",
    "\t\t\\mr{s.t.} \\quad & F_{min} - F(\\pmb{\\mu}) \\leq 0\\\\\n",
    "\t\t& I_{sp,min} - I(\\pmb{\\mu}) \\leq 0 \\\\\n",
    "\t\t& \\| \\sigma(\\pmb{\\mu}) \\|_{\\infty} - \\sigma_{yield} \\leq 0 \\\\\n",
    "\t\t& \\|T(\\pmb{\\mu})\\|_{\\infty} - T_{max} \\leq 0 \\\\\n",
    "        \\mr{given:} \\quad & \\big\\{ \\{Material \\; properties\\}, \\{ Ambient \\; conditions\\}, \\{Propellant \\; combination\\}  \\big\\}. \\\\\n",
    "\t\\end{split}\n",
    "\\end{equation}\n",
    "The design variables which populate $\\pmb{\\mu}$ are defined below."
   ]
  },
  {
   "attachments": {},
   "cell_type": "markdown",
   "metadata": {},
   "source": [
    "| Design Variable   | Description                           | Units |\n",
    "| :---:             | :---                                  | :---  |\n",
    "|$r_{c}$            | Combustion chamber internal radius    | $m$   |\n",
    "|$L_{c}$            | Combustion chamber length             |  $m$  |\n",
    "|$\\beta_{nc}$       | Nozzle converging section cone frustum half angle | deg. |\n",
    "|$\\beta_{nd}$       | Nozzle diverging section cone frustum half angle  | deg. |\n",
    "|$\\epsilon$         | Nozzle area ratio, $A_{e} / A_{t}$    | -     |\n",
    "|$t_{w}$            | Internal structure wall thickness     | $m$   |\n",
    "|$t_{j}$            | Cooling jacket channel thickness      | $m$   |\n",
    "|$t_{s}$            | Outer shell thickness                 | $m$   |\n",
    "|$\\dot{m}_{f}$      | Fuel mass flow rate                   | $kg/s$ |\n",
    "|$\\phi$             | Equivalence ratio                     | -     |\n",
    "|$p_{c}$            | Combustion chamber pressure           | atm   |\n",
    "|$f_{c}$            | Coolant fraction, $\\dot{m}_{f,cool}/\\dot{m}_{f,total}$                     |   -    |"
   ]
  },
  {
   "attachments": {},
   "cell_type": "markdown",
   "metadata": {},
   "source": [
    "## Models and Analysis\n",
    "To avoid getting bogged down and to get right into the interesting results, the bulk of model derivation and analysis will not be presented in detail here; the interested reader is directed to the report above.\n",
    "Instead only a schematic diagram is introduced along with the design structure matrix, showing how the various sub-models are related.\n",
    "### Geometry Specification\n",
    "The geometry of the combustion chamber and nozzle is simplified and parameterized with the internal volume treated as a body of revolution divided into three sections: combustion chamber, converging nozzle section, and diverging nozzle section. \n",
    "All sections are surrounded by the cooling jacket channel and outer shell. \n",
    "A schematic of an engine cross-section is shown below where quantities in parentheses are computed from other design parameters. \n",
    "\n",
    "<img src=\"Figures/Engine_schematic.jpg\" alt=\"Engine schematic\" width=\"800\" />\n",
    "\n",
    "Analysis is carried out in cylindrical coordinates with the $z$ axis aligned with the engine axis, about which axisymmetry in all models and analysis is assumed. \n",
    "Positive $z$ is defined in the direction of propellant flow and is measured from the inside of the injector face at the top of the combustion chamber. "
   ]
  },
  {
   "attachments": {},
   "cell_type": "markdown",
   "metadata": {},
   "source": [
    "### Design Structure Matrix\n",
    "As implemented, the graph representing the overall engine model is acyclic, and thus each component may be solved successively, without iteration. \n",
    "The resulting design structure matrix is shown below, where the sub-models are solved in numberical order given a design $\\pmb{\\mu}$.\n",
    "An 'x' above the shaded diagonal means the model on the diagonal depends on the output from the model to the left.\n",
    "An 'x' below the shaded diagonal would represent a cyclic dependence, meaning the models would need to be coupled or iteratively converged.\n",
    "\n",
    "<img src=\"Figures/dsm.png\" alt=\"Design structure matrix\" width=\"800\"/>\n",
    "\n",
    "\n",
    "In reality there is cyclic coupling between the heat transfer model and the flow model. \n",
    "However, this coupling is weak which is why it was not pursued for the simplified model here. \n",
    "Additionally, there is coupling between the heat transfer model and the thermochemical solver.\n",
    "The coolant stream mixes with the main fuel flow and raises its temperature, augmenting the heat release and post combustion state. \n",
    "This effect is ignored in the current model implementation.\n",
    "There is additional coupling between the stress model and the flow model as components under stress undergo displacement, altering the engine cross-section slightly. \n",
    "This would impact the flow but again, this is likely to be a weak coupling. "
   ]
  }
 ],
 "metadata": {
  "language_info": {
   "name": "python"
  },
  "orig_nbformat": 4
 },
 "nbformat": 4,
 "nbformat_minor": 2
}
