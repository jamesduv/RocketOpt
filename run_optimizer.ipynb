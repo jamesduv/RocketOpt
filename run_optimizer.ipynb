{
 "cells": [
  {
   "attachments": {},
   "cell_type": "markdown",
   "metadata": {},
   "source": [
    "# Optimization of a Simplified Methane-Oxygen Rocket Engine Thrust Chamber\n",
    "This notebook follows along with the report written for a class project: LINK\n",
    "\n",
    "A simplified model of a regeneratively cooled rocket thrust chamber is optimized using constrained, gradient based optimization.\n"
   ]
  },
  {
   "attachments": {},
   "cell_type": "markdown",
   "metadata": {},
   "source": [
    "## Problem Statement and Design Variables\n",
    "The problem at hand is to minimize the structural mass $m_{s}$ of a regeneratively cooled thrust chamber subject to thrust ($F$), efficiency ($I_{sp}$), mechanical stress ($\\sigma$), and operating temperature $(T)$ inequality constraints given a cryogenic propellant combination.\n",
    "\n",
    "Collecting all design variables in vector $\\pmb{\\mu}$, then this may be written mathematically as follows:\n",
    "\\begin{equation}\n",
    "\t\\begin{split}\n",
    "\t\t\\mathrm{minimize} \\quad & m_{s}(\\pmb{\\mu}) \\\\\n",
    "\t\t\\mathrm{subject \\; to:} \\quad & F_{min} - F(\\pmb{\\mu}) \\leq 0\\\\\n",
    "\t\t& I_{sp,min} - I(\\pmb{\\mu}) \\leq 0 \\\\\n",
    "\t\t& \\| \\sigma(\\pmb{\\mu}) \\|_{\\infty} - \\sigma_{yield} \\leq 0 \\\\\n",
    "\t\t& \\|T(\\pmb{\\mu})\\|_{\\infty} - T_{max} \\leq 0 \\\\\n",
    "        \\mathrm{given:} \\quad & \\big\\{ \\{Material \\; properties\\}, \\{ Ambient \\; conditions\\}, \\{Propellant \\; combination\\}  \\big\\}. \\\\\n",
    "\t\\end{split}\n",
    "\\end{equation}\n",
    "The design variables which populate $\\pmb{\\mu}$ are defined below."
   ]
  },
  {
   "attachments": {},
   "cell_type": "markdown",
   "metadata": {},
   "source": [
    "| Design Variable   | Description                           | Units |\n",
    "| :---:             | :---                                  | :---  |\n",
    "|$r_{c}$            | Combustion chamber internal radius    | $m$   |\n",
    "|$L_{c}$            | Combustion chamber length             |  $m$  |\n",
    "|$\\beta_{nc}$       | Nozzle converging section cone frustum half angle | deg. |\n",
    "|$\\beta_{nd}$       | Nozzle diverging section cone frustum half angle  | deg. |\n",
    "|$\\epsilon$         | Nozzle area ratio, $A_{e} / A_{t}$    | -     |\n",
    "|$t_{w}$            | Internal structure wall thickness     | $m$   |\n",
    "|$t_{j}$            | Cooling jacket channel thickness      | $m$   |\n",
    "|$t_{s}$            | Outer shell thickness                 | $m$   |\n",
    "|$\\dot{m}_{f}$      | Fuel mass flow rate                   | $kg/s$ |\n",
    "|$\\phi$             | Equivalence ratio                     | -     |\n",
    "|$p_{c}$            | Combustion chamber pressure           | atm   |\n",
    "|$f_{c}$            | Fuel mass-flow coolant fraction, $\\dot{m}_{f,cool}/\\dot{m}_{f,total}$                     |   -    |"
   ]
  },
  {
   "attachments": {},
   "cell_type": "markdown",
   "metadata": {},
   "source": [
    "## Models and Analysis\n",
    "To avoid getting bogged down and to get right into the interesting results, the bulk of model derivation and analysis will not be presented in detail here; the interested reader is directed to the report above.\n",
    "Instead only a schematic diagram is introduced along with the design structure matrix, showing how the various sub-models are related.\n",
    "### Geometry Specification\n",
    "The geometry of the combustion chamber and nozzle is simplified and parameterized with the internal volume treated as a body of revolution divided into three sections: combustion chamber, converging nozzle section, and diverging nozzle section. \n",
    "All sections are surrounded by the cooling jacket channel and outer shell. \n",
    "A schematic of an engine cross-section is shown below where quantities in parentheses are computed from other design parameters. \n",
    "\n",
    "<img src=\"Figures/Engine_schematic.jpg\" alt=\"Engine schematic\" width=\"800\" />\n",
    "\n",
    "Analysis is carried out in cylindrical coordinates with the $z$ axis aligned with the engine axis, about which axisymmetry in all models and analysis is assumed. \n",
    "Positive $z$ is defined in the direction of propellant flow and is measured from the inside of the injector face at the top of the combustion chamber. "
   ]
  },
  {
   "attachments": {},
   "cell_type": "markdown",
   "metadata": {},
   "source": [
    "### Design Structure Matrix\n",
    "As implemented, the graph representing the overall engine model is acyclic, and thus each component may be solved successively, without iteration. \n",
    "The resulting design structure matrix is shown below, where the sub-models are solved in numberical order given a design $\\pmb{\\mu}$.\n",
    "An 'x' above the shaded diagonal means the model on the diagonal depends on the output from the model to the left.\n",
    "An 'x' below the shaded diagonal would represent a cyclic dependence, meaning the models would need to be coupled or iteratively converged.\n",
    "\n",
    "<img src=\"Figures/dsm.png\" alt=\"Design structure matrix\" width=\"800\"/>\n",
    "\n",
    "\n",
    "In reality there is cyclic coupling between the heat transfer model and the flow model. \n",
    "However, this coupling is weak which is why it was not pursued for the simplified model here. \n",
    "Additionally, there is coupling between the heat transfer model and the thermochemical solver.\n",
    "The coolant stream mixes with the main fuel flow and raises its temperature, augmenting the heat release and post combustion state. \n",
    "This effect is ignored in the current model implementation.\n",
    "There is additional coupling between the stress model and the flow model as components under stress undergo displacement, altering the engine cross-section slightly. \n",
    "This would impact the flow but again, this is likely to be a weak coupling. "
   ]
  },
  {
   "attachments": {},
   "cell_type": "markdown",
   "metadata": {},
   "source": [
    "## Gradient-Based Optimization Scheme\n",
    "The scipy.optimize library is used with the SLSQP method. This is a Quasi-Newton method, "
   ]
  },
  {
   "attachments": {},
   "cell_type": "markdown",
   "metadata": {},
   "source": [
    "# First Test: Unconstrained Optimization\n",
    "First we will test that the optimizer is working correctly by performing unconstrained optimization.\n",
    "In this scenario the algorithm should make the engine as small as possible given the limits on the design variables."
   ]
  },
  {
   "cell_type": "code",
   "execution_count": 1,
   "metadata": {},
   "outputs": [],
   "source": [
    "#import libraries and model functions from repo\n",
    "import sys\n",
    "import os\n",
    "import pickle\n",
    "import numpy as np\n",
    "import scipy.optimize as sciopt\n",
    "\n",
    "from dev_thermo import comp_thermochem\n",
    "from dev_geom import comp_geom\n",
    "from dev_mesh import comp_mesh\n",
    "from dev_flow import comp_flow\n",
    "from dev_heat import comp_heat\n",
    "from dev_stress import comp_stress\n",
    "from dev_mass import comp_mass\n",
    "from dev_performance import comp_performance\n"
   ]
  },
  {
   "cell_type": "code",
   "execution_count": 2,
   "metadata": {},
   "outputs": [],
   "source": [
    "def callback(mu):\n",
    "    '''Callback function to track the design variables at each iteration '''\n",
    "    global XHIST\n",
    "    XHIST.append(mu)"
   ]
  },
  {
   "attachments": {},
   "cell_type": "markdown",
   "metadata": {},
   "source": [
    "It is a good idea to use normalized design variables to deal with the differences in gradient scaling and sensitivity among design variables.\n",
    "EXPAND\n",
    "The interface for each sub-model is a dictionary with named entries, while the optimizer uses a design variable vector.\n",
    "Define a function which converts a vector of normalized design variables into a dictionary of dimensional and physically scaled quantities. \n",
    "\n",
    "The design variables are normalized using min-max scaling, that is a normalized quantity $\\tilde{\\mu_{i}}$ is computed from it's dimensional counterpart $\\mu_{i}$ as,\n",
    "$$\n",
    "\\tilde{\\mu}_{i} = \\frac{\\mu_{i} - \\mu_{i,min}}{\\mu_{i,max} - \\mu_{i,min}},\n",
    "$$\n",
    "where $\\mu_{i,min}$/$\\mu_{i,max}$ are the limits.\n",
    "$\\tilde{\\mu}_{i} \\in [0,1]$ provided $\\mu_{i,min} \\leq \\mu_{i} \\leq \\mu_{i,max}$."
   ]
  },
  {
   "cell_type": "code",
   "execution_count": 3,
   "metadata": {},
   "outputs": [],
   "source": [
    "def design_vars_vec2dict(mu, limits):\n",
    "    '''Convert the normalized input vector to a dictionary of scaled, dimensional values, given the provded limits\n",
    "    \n",
    "    Args:\n",
    "        x (ndarray)     : vector of normalized (0-1) design variables\n",
    "        limits (dict)   : named limit tuples, (minval, maxval) for each entry of the design variables, \n",
    "        to recover dimensional quantities\n",
    "    Returns:\n",
    "        phys_vals (dict)    : the design variables in dimensional quantities\n",
    "    '''\n",
    "\n",
    "    norm = {    'rc'        : mu[0],        # radius, combustion chamber [m]\n",
    "                'Lc'        : mu[1],        # length, combustion chamber [m]\n",
    "                'pc'        : mu[2],        # pressure, combustion chamber [atm]\n",
    "                'beta_nc'   : mu[3],        # angle, converging nozzle [deg]\n",
    "                'beta_nd'   : mu[4],        # angle, diverging nozzle [deg]\n",
    "                'mdot_f'    : mu[6],        # fuel mass flow rate, [kg/s]\n",
    "                'phi'       : mu[6],        # equivalence ratio CH4-O2 [-]\n",
    "                'er'        : mu[7],        # nozzle expansion ratio\n",
    "                'tw'        : mu[8],        # wall thickness\n",
    "                'tc'        : mu[9],        # channel thickness\n",
    "                'ts'        : mu[10],       # shell thickness\n",
    "                'f_cool'    : mu[11]        # fraction of fuel to run through cooling loop\n",
    "            }\n",
    "\n",
    "    phys_vals = {}\n",
    "    for k,v in norm.items():\n",
    "        xmin, xmax = limits[k]\n",
    "        phys_vals[k] = xmin + (v * (xmax - xmin))\n",
    "\n",
    "    return phys_vals"
   ]
  },
  {
   "attachments": {},
   "cell_type": "markdown",
   "metadata": {},
   "source": [
    "Define a function to retrieve mesh settings, material properties, and boundary conditions, which are all treated as constant throughout the optimization."
   ]
  },
  {
   "cell_type": "code",
   "execution_count": 4,
   "metadata": {},
   "outputs": [],
   "source": [
    "def get_prop_param_bc():\n",
    "    '''Get mesh settings, material properties, and thermodynamic boundary conditions'''\n",
    "\n",
    "    mesh_param = {  'nr'        :   10,    \n",
    "                    'nz_c'      :   50,\n",
    "                    'nz_nc'     :   50,\n",
    "                    'nz_t'      :   3,\n",
    "                    'nz_nd'     :   100,\n",
    "                }\n",
    "\n",
    "    material_prop = {   'k_w'   : 45,       # thermal conductivity, [W/(m K)] wall\n",
    "                        'k_s'   : 45,       # thermal conductivity, [W/(m K)] shell\n",
    "                        'E_w'   : 200E+09,  # youngs modulus steel, [Pa]\n",
    "                        'v_w'   : 0.29,     # poisson's ratio, [-] \n",
    "                        'cte_w' : 11e-06,       # coefficient of thermal expansion, [m/K]\n",
    "                        's_yield' : 350E+06,    # steel yield strength, [Pa]\n",
    "                        'rho'   : 8E+03         # steel density, [kg/m^3]\n",
    "                    }\n",
    "\n",
    "    flow_bc = { 'Tfuel'     : 200,   # Kelvin, boiling point of ~110K, pre combustion temperature\n",
    "                'p_inf'      : 0.1,  # ambient pressure, [atm]\n",
    "                'T_inf'     : 200,   # ambient temperature, [K]\n",
    "                'rho_fuel'  : 260,   # methane fuel density, [kg/m^3] (liq 440, supercrit ~260)\n",
    "                'k_fuel'    : 40e-03,   # methane thermal conductivity, liquid ~200e-03, supercritical ~40e-03-80e-03\n",
    "                'Pr_fuel'   : 0.86,     # (0.86)fuel Prandtl number, estimate\n",
    "                'mu_fuel'   : 15e-06,   # fuel dynamic viscosity - supercritical\n",
    "                'h_inf'     : 10,       # ambient heat transfer coefficient\n",
    "                'Tcool'     : 90        # coolant inlet temperature\n",
    "                }\n",
    "    cp_cool     = flow_bc['Pr_fuel'] * flow_bc['k_fuel'] / flow_bc['mu_fuel']\n",
    "    flow_bc['cp_fuel'] = cp_cool\n",
    "    return material_prop, mesh_param, flow_bc"
   ]
  },
  {
   "attachments": {},
   "cell_type": "markdown",
   "metadata": {},
   "source": [
    "Next define the objective function which computes the structural mass given a design. As seen in the DSM, the mass model depends only on the thermochemical and geometry models.\n",
    "Also define a call to the full model."
   ]
  },
  {
   "cell_type": "code",
   "execution_count": 5,
   "metadata": {},
   "outputs": [],
   "source": [
    "def fobj_mass(mu, limits):\n",
    "    '''Objective function - mass\n",
    "    \n",
    "    Args:\n",
    "        x (ndarray)     : vector of normalized (0-1) design variables\n",
    "        limits (dict)   : named limits, mu_min, mu_max for each entry of the design variables, \n",
    "                          to recover dimensional quantities\n",
    "\n",
    "    Retuns:\n",
    "        mass (float)    : the total structural mass\n",
    "    '''\n",
    "\n",
    "    design_vars = design_vars_vec2dict(mu, limits)\n",
    "\n",
    "    material_prop, mesh_param, flow_bc = get_prop_param_bc()\n",
    "\n",
    "    therm_out   = comp_thermochem(design_vars, flow_bc)\n",
    "\n",
    "    geom_out    = comp_geom(design_vars, therm_out)\n",
    "\n",
    "    mass_out    = comp_mass(design_vars, material_prop, geom_out)\n",
    "\n",
    "    mass = mass_out['mtot']\n",
    "\n",
    "    return mass"
   ]
  },
  {
   "cell_type": "code",
   "execution_count": 12,
   "metadata": {},
   "outputs": [],
   "source": [
    "def f_model(mu, limits):\n",
    "    '''Call the full model, given a vector of normalized inputs and a dictionary\n",
    "    giving the physical bounds for each variable'''\n",
    "\n",
    "    design_vars = design_vars_vec2dict(mu, limits)\n",
    "    material_prop, mesh_param, flow_bc = get_prop_param_bc()\n",
    "\n",
    "    therm_out   = comp_thermochem(design_vars, flow_bc)\n",
    "\n",
    "    geom_out    = comp_geom(design_vars, therm_out)\n",
    "\n",
    "    mesh_out    = comp_mesh(design_vars, geom_out, mesh_param)\n",
    "\n",
    "    mass_out    = comp_mass(design_vars, material_prop, geom_out)\n",
    "\n",
    "    flow_out    = comp_flow(design_vars, flow_bc, therm_out, geom_out, mesh_out, mesh_param)\n",
    "\n",
    "    perf_out    = comp_performance(design_vars, flow_bc, geom_out, therm_out, flow_out)\n",
    "\n",
    "    heat_out    = comp_heat(design_vars, flow_bc, material_prop, mesh_param,\n",
    "                            therm_out, geom_out, mesh_out, flow_out)\n",
    "\n",
    "    stress_out  = comp_stress(design_vars, mesh_param, material_prop, mesh_out, flow_out, heat_out)\n",
    "\n",
    "    res = { 'therm_out'     : therm_out,\n",
    "            'geom_out'      : geom_out,\n",
    "            'mesh_out'      : mesh_out,\n",
    "            'mass_out'      : mass_out,\n",
    "            'flow_out'      : flow_out,\n",
    "            'perf_out'      : perf_out,\n",
    "            'heat_out'      : heat_out,\n",
    "            'stress_out'    : stress_out,\n",
    "            'material_prop' : material_prop,\n",
    "            'mesh_param'    : mesh_param,\n",
    "            'flow_bc'       : flow_bc,\n",
    "            }\n",
    "\n",
    "    return res"
   ]
  },
  {
   "attachments": {},
   "cell_type": "markdown",
   "metadata": {},
   "source": [
    "Now we are ready to define a function to run unconstrained optimization."
   ]
  },
  {
   "cell_type": "code",
   "execution_count": 10,
   "metadata": {},
   "outputs": [],
   "source": [
    "def uncontrained_opitmization():\n",
    "    global XHIST\n",
    "    XHIST = []\n",
    "\n",
    "    #define initial design - right in the middle of limits\n",
    "    n_design_vars   = 12\n",
    "    x0              = np.ones(n_design_vars) * 0.5\n",
    "\n",
    "    # all design variables bounded between 0-1\n",
    "    bounds = [ (0, 1),]*n_design_vars\n",
    "    \n",
    "    limits = {  'rc'        : (0.1, 0.5),           # radius, combustion chamber [m]\n",
    "                'Lc'        : (0.1, 0.4),           # length, combustion chamber [m]\n",
    "                'pc'        : (5, 40),              # pressure, combustion chamber [atm]\n",
    "                'beta_nc'   : (30, 60),             # angle, converging nozzle [deg]\n",
    "                'beta_nd'   : (15, 25),             # angle, diverging nozzle [deg]\n",
    "                'mdot_f'    : (10, 11),             # fuel mass flow rate, [kg/s]\n",
    "                'phi'       : (0.8, 1.2),           # equivalence ratio CH4-O2 [-]\n",
    "                'er'        : (2, 30),              # nozzle expansion ratio\n",
    "                'tw'        : (0.005, 0.05),        # wall thickness\n",
    "                'tc'        : (0.001, 0.05),        # channel thickness\n",
    "                'ts'        : (0.001, 0.0015),      # shell thickness\n",
    "                'f_cool'    : (0.01, 0.5)           # fraction of fuel to run through cooling loop\n",
    "            }\n",
    "\n",
    "    # set up args, run optimizer\n",
    "    args = (limits,)\n",
    "    fobj = fobj_mass\n",
    "    res = sciopt.minimize(  fun     = fobj, \n",
    "                            x0      = x0, \n",
    "                            args    = args,\n",
    "                            method  = 'SLSQP',\n",
    "                            bounds  = bounds, \n",
    "                            callback = callback)\n",
    "\n",
    "    # extract optimal design and model output\n",
    "    mu_opt_norm     = res['x']\n",
    "    model_out       = f_model(mu_opt_norm, limits)\n",
    "    mu_opt_dim      = design_vars_vec2dict(mu_opt_norm, limits)\n",
    "\n",
    "    data = {    'model_out'     : model_out,\n",
    "                'mu_opt_dim'    : mu_opt_dim,\n",
    "                'opt_res'       : res,\n",
    "                'x0'            : x0,\n",
    "                'bounds'        : bounds,\n",
    "                'limits'        : limits,\n",
    "                'xhist'         : XHIST.copy()\n",
    "            }\n",
    "    return data"
   ]
  },
  {
   "cell_type": "code",
   "execution_count": 24,
   "metadata": {},
   "outputs": [],
   "source": [
    "unc_output = uncontrained_opitmization()"
   ]
  },
  {
   "cell_type": "code",
   "execution_count": 42,
   "metadata": {},
   "outputs": [],
   "source": [
    "def print_design_summary(opt_output):\n",
    "    mu_opt = opt_output['mu_opt_dim']\n",
    "    print('Engine size and performance:')\n",
    "    print('*----------------------------------------------*')\n",
    "    print('Total mass [kg]: {:1.3e}'.format(opt_output['model_out']['mass_out']['mtot'])) \n",
    "    print('Ideal engine thrust [N] : {:1.3e}'.format(opt_output['model_out']['perf_out']['F_ideal']))\n",
    "    print('Engine thrust [N] : {:1.3e}'.format(opt_output['model_out']['perf_out']['F']))\n",
    "    print('Ideal Isp [s] : {:1.3e}'.format(opt_output['model_out']['perf_out']['Isp_ideal']))\n",
    "    print('Isp [s] : {:1.3e}'.format(opt_output['model_out']['perf_out']['Isp']))\n",
    "    print('Ideal thrust coefficient [-] : {:1.3e}'.format(opt_output['model_out']['perf_out']['Cf_ideal']))\n",
    "    print('Thrust coefficient [-] : {:1.3e}'.format(opt_output['model_out']['perf_out']['Cf']))\n",
    "    print('Characteristic velocity (c*) [m/s] : {:1.3e}'.format(opt_output['model_out']['perf_out']['c_star']))\n",
    "\n",
    "    print('*----------------------------------------------*')\n",
    "    print('Engine design variables:')\n",
    "    print('*----------------------------------------------*')\n",
    "\n",
    "    for k,v in unc_output['limits'].items():\n",
    "        print('{}: {:1.3e}'.format(k, mu_opt[k]))\n",
    "    print('*----------------------------------------------*')\n"
   ]
  },
  {
   "cell_type": "code",
   "execution_count": 44,
   "metadata": {},
   "outputs": [
    {
     "name": "stdout",
     "output_type": "stream",
     "text": [
      "Engine size and performance:\n",
      "*----------------------------------------------*\n",
      "Total mass [kg]: 4.691e+00\n",
      "Ideal engine thrust [N] : 1.293e+05\n",
      "Engine thrust [N] : 1.243e+05\n",
      "Ideal Isp [s] : 2.770e+02\n",
      "Isp [s] : 2.663e+02\n",
      "Ideal thrust coefficient [-] : 1.495e+00\n",
      "Thrust coefficient [-] : 1.437e+00\n",
      "Characteristic velocity (c*) [m/s] : 1.818e+03\n",
      "*----------------------------------------------*\n",
      "Engine design variables:\n",
      "*----------------------------------------------*\n",
      "rc: 1.000e-01\n",
      "Lc: 1.000e-01\n",
      "pc: 4.000e+01\n",
      "beta_nc: 6.000e+01\n",
      "beta_nd: 2.500e+01\n",
      "mdot_f: 1.100e+01\n",
      "phi: 1.200e+00\n",
      "er: 2.000e+00\n",
      "tw: 5.000e-03\n",
      "tc: 2.550e-02\n",
      "ts: 1.250e-03\n",
      "f_cool: 2.550e-01\n",
      "*----------------------------------------------*\n"
     ]
    }
   ],
   "source": [
    "print_design_summary(unc_output)"
   ]
  },
  {
   "attachments": {},
   "cell_type": "markdown",
   "metadata": {},
   "source": [
    "The unconstrained optimization has performed as expected, with the chamber radius (rc) and length (Lc) reaching the lower end of the bounds, the nozzle converging (beta_nc) and diverging (beta_nd) sections contracting/expanding as quickly as possible to the smallest expansion ratio (er)."
   ]
  },
  {
   "attachments": {},
   "cell_type": "markdown",
   "metadata": {},
   "source": [
    "# Isp-only constraint\n",
    "Next we introduce a constraint on the engine efficiency; Isp. Define a function which computes this constraint."
   ]
  },
  {
   "cell_type": "code",
   "execution_count": 45,
   "metadata": {},
   "outputs": [],
   "source": [
    "def constr_Isp(x, limits, Ispmin):\n",
    "    '''Isp constraint function'''\n",
    "\n",
    "    design_vars = design_vars_vec2dict(x, limits)\n",
    "    material_prop, mesh_param, flow_bc = get_prop_param_bc()\n",
    "\n",
    "    therm_out   = comp_thermochem(design_vars, flow_bc)\n",
    "\n",
    "    geom_out    = comp_geom(design_vars, therm_out)\n",
    "\n",
    "    mesh_out    = comp_mesh(design_vars, geom_out, mesh_param)\n",
    "\n",
    "    flow_out    = comp_flow(design_vars, flow_bc, therm_out, geom_out, mesh_out, mesh_param)\n",
    "\n",
    "    perf_out    = comp_performance(design_vars, flow_bc, geom_out, therm_out, flow_out)\n",
    "\n",
    "    Isp = perf_out['Isp']\n",
    "    val = Isp - Ispmin\n",
    "    return val"
   ]
  },
  {
   "cell_type": "code",
   "execution_count": 46,
   "metadata": {},
   "outputs": [],
   "source": [
    "def isp_constrained_opitmization(Ispmin=None):\n",
    "    assert Ispmin is not None\n",
    "    global XHIST\n",
    "    XHIST = []\n",
    "\n",
    "    #define initial design - right in the middle of limits\n",
    "    n_design_vars   = 12\n",
    "    x0              = np.ones(n_design_vars) * 0.5\n",
    "\n",
    "    # all design variables bounded between 0-1\n",
    "    bounds = [ (0, 1),]*n_design_vars\n",
    "    \n",
    "    limits = {  'rc'        : (0.1, 0.5),           # radius, combustion chamber [m]\n",
    "                'Lc'        : (0.1, 0.4),           # length, combustion chamber [m]\n",
    "                'pc'        : (5, 40),              # pressure, combustion chamber [atm]\n",
    "                'beta_nc'   : (30, 60),             # angle, converging nozzle [deg]\n",
    "                'beta_nd'   : (15, 25),             # angle, diverging nozzle [deg]\n",
    "                'mdot_f'    : (10, 11),             # fuel mass flow rate, [kg/s]\n",
    "                'phi'       : (0.8, 1.2),           # equivalence ratio CH4-O2 [-]\n",
    "                'er'        : (2, 30),              # nozzle expansion ratio\n",
    "                'tw'        : (0.005, 0.05),        # wall thickness\n",
    "                'tc'        : (0.001, 0.05),        # channel thickness\n",
    "                'ts'        : (0.001, 0.0015),      # shell thickness\n",
    "                'f_cool'    : (0.01, 0.5)           # fraction of fuel to run through cooling loop\n",
    "            }\n",
    "\n",
    "    # set up the constraint\n",
    "    cIsp = {    'type'  : 'ineq',\n",
    "                'fun'   : constr_Isp,\n",
    "                'args'  : (limits, Ispmin,)\n",
    "            }\n",
    "    constraints = [cIsp,]\n",
    "    \n",
    "    # set up args, run optimizer\n",
    "    args = (limits,)\n",
    "    fobj = fobj_mass\n",
    "    res = sciopt.minimize(  fun         = fobj, \n",
    "                            x0          = x0, \n",
    "                            args        = args,\n",
    "                            method      = 'SLSQP',\n",
    "                            bounds      = bounds, \n",
    "                            constraints = constraints,\n",
    "                            callback    = callback)\n",
    "\n",
    "    # extract optimal design and model output\n",
    "    mu_opt_norm     = res['x']\n",
    "    model_out       = f_model(mu_opt_norm, limits)\n",
    "    mu_opt_dim      = design_vars_vec2dict(mu_opt_norm, limits)\n",
    "\n",
    "    data = {    'model_out'     : model_out,\n",
    "                'mu_opt_dim'    : mu_opt_dim,\n",
    "                'opt_res'       : res,\n",
    "                'x0'            : x0,\n",
    "                'bounds'        : bounds,\n",
    "                'limits'        : limits,\n",
    "                'xhist'         : XHIST.copy()\n",
    "            }\n",
    "    return data"
   ]
  },
  {
   "attachments": {},
   "cell_type": "markdown",
   "metadata": {},
   "source": [
    "Now run the optimization with a constraint of $Isp_{min}=290s$."
   ]
  },
  {
   "cell_type": "code",
   "execution_count": 47,
   "metadata": {},
   "outputs": [],
   "source": [
    "isp290_output = isp_constrained_opitmization(Ispmin=290)"
   ]
  },
  {
   "cell_type": "code",
   "execution_count": 48,
   "metadata": {},
   "outputs": [
    {
     "name": "stdout",
     "output_type": "stream",
     "text": [
      "Engine size and performance:\n",
      "*----------------------------------------------*\n",
      "Total mass [kg]: 8.778e+00\n",
      "Ideal engine thrust [N] : 1.408e+05\n",
      "Engine thrust [N] : 1.353e+05\n",
      "Ideal Isp [s] : 3.018e+02\n",
      "Isp [s] : 2.900e+02\n",
      "Ideal thrust coefficient [-] : 1.629e+00\n",
      "Thrust coefficient [-] : 1.565e+00\n",
      "Characteristic velocity (c*) [m/s] : 1.818e+03\n",
      "*----------------------------------------------*\n",
      "Engine design variables:\n",
      "*----------------------------------------------*\n",
      "rc: 1.000e-01\n",
      "Lc: 1.000e-01\n",
      "pc: 4.000e+01\n",
      "beta_nc: 6.000e+01\n",
      "beta_nd: 2.417e+01\n",
      "mdot_f: 1.100e+01\n",
      "phi: 1.200e+00\n",
      "er: 4.075e+00\n",
      "tw: 5.000e-03\n",
      "tc: 2.550e-02\n",
      "ts: 1.250e-03\n",
      "f_cool: 2.550e-01\n",
      "*----------------------------------------------*\n"
     ]
    }
   ],
   "source": [
    "print_design_summary(isp290_output)"
   ]
  }
 ],
 "metadata": {
  "kernelspec": {
   "display_name": "cantera",
   "language": "python",
   "name": "python3"
  },
  "language_info": {
   "codemirror_mode": {
    "name": "ipython",
    "version": 3
   },
   "file_extension": ".py",
   "mimetype": "text/x-python",
   "name": "python",
   "nbconvert_exporter": "python",
   "pygments_lexer": "ipython3",
   "version": "3.10.9"
  },
  "orig_nbformat": 4,
  "vscode": {
   "interpreter": {
    "hash": "59317ca925295e309ebd08d0072eba8119c02942ef8c35d1f4cad8b293d99111"
   }
  }
 },
 "nbformat": 4,
 "nbformat_minor": 2
}
